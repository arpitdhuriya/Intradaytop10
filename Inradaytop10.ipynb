{
  "nbformat": 4,
  "nbformat_minor": 0,
  "metadata": {
    "colab": {
      "name": "INTRADAY.ipynb",
      "provenance": [],
      "collapsed_sections": []
    },
    "kernelspec": {
      "name": "python3",
      "display_name": "Python 3"
    }
  },
  "cells": [
    {
      "cell_type": "code",
      "metadata": {
        "id": "r2w25lTW2mUe",
        "colab": {
          "base_uri": "https://localhost:8080/"
        },
        "outputId": "0e54ff3a-9a75-472b-ab4f-d0fbfb3b7cba"
      },
      "source": [
        "import requests\n",
        "import io\n",
        "import pandas as pd\n",
        "import datetime\n",
        "\n",
        "\n",
        "x = datetime.datetime.now()\n",
        "day1 = '0' + str(x.day-1) if int(x.day-1)< 10 else str(x.day-1)\n",
        "day2 = '0' + str(x.day-2) if int(x.day-2)< 10 else str(x.day-2)\n",
        "day3 = '0' + str(x.day-3) if int(x.day-3)< 10 else str(x.day-3)\n",
        "if x.strftime(\"%A\") == 'Sunday' :\n",
        "    url='https://www1.nseindia.com/archives/nsccl/volt/CMVOLT_'+day2+str(x.month)+str(x.year)+'.CSV'\n",
        "elif x.strftime(\"%A\") == 'Monday':\n",
        "    url='https://www1.nseindia.com/archives/nsccl/volt/CMVOLT_'+day3+str(x.month)+str(x.year)+'.CSV'\n",
        "else:\n",
        "    url='https://www1.nseindia.com/archives/nsccl/volt/CMVOLT_'+day1+str(x.month)+str(x.year)+'.CSV'\n",
        "print(url)\n",
        "#https://www.nse-india.com/archives/nsccl/volt/CMVOLT_27122019.CSV"
      ],
      "execution_count": 95,
      "outputs": [
        {
          "output_type": "stream",
          "text": [
            "https://www1.nseindia.com/archives/nsccl/volt/CMVOLT_04122020.CSV\n"
          ],
          "name": "stdout"
        }
      ]
    },
    {
      "cell_type": "code",
      "metadata": {
        "colab": {
          "base_uri": "https://localhost:8080/"
        },
        "id": "LhQpG1lsBkqD",
        "outputId": "208b06b4-6ad1-4e14-867d-77a3bbbcfcbc"
      },
      "source": [
        "!pip install wget"
      ],
      "execution_count": 84,
      "outputs": [
        {
          "output_type": "stream",
          "text": [
            "Requirement already satisfied: wget in /usr/local/lib/python3.6/dist-packages (3.2)\n"
          ],
          "name": "stdout"
        }
      ]
    },
    {
      "cell_type": "code",
      "metadata": {
        "id": "dy86hObi9ZdG",
        "colab": {
          "base_uri": "https://localhost:8080/",
          "height": 35
        },
        "outputId": "bd61a823-13c3-4442-cd5a-2e45a92661c9"
      },
      "source": [
        "import wget\n",
        "filename=wget.download(url)\n",
        "filename"
      ],
      "execution_count": 98,
      "outputs": [
        {
          "output_type": "execute_result",
          "data": {
            "application/vnd.google.colaboratory.intrinsic+json": {
              "type": "string"
            },
            "text/plain": [
              "'CMVOLT_04122020.CSV'"
            ]
          },
          "metadata": {
            "tags": []
          },
          "execution_count": 98
        }
      ]
    },
    {
      "cell_type": "code",
      "metadata": {
        "colab": {
          "base_uri": "https://localhost:8080/",
          "height": 35
        },
        "id": "yETh1NgC-9Jl",
        "outputId": "bc9aa653-3b1d-40f4-9de0-8d8edfff8ea0"
      },
      "source": [
        "nifty50Url ='https://www1.nseindia.com/content/indices/ind_nifty50list.csv'\n",
        "wget.download(nifty50Url)"
      ],
      "execution_count": 86,
      "outputs": [
        {
          "output_type": "execute_result",
          "data": {
            "application/vnd.google.colaboratory.intrinsic+json": {
              "type": "string"
            },
            "text/plain": [
              "'ind_nifty50list (1).csv'"
            ]
          },
          "metadata": {
            "tags": []
          },
          "execution_count": 86
        }
      ]
    },
    {
      "cell_type": "code",
      "metadata": {
        "id": "vQ4TP3NqMHK5"
      },
      "source": [
        "import pandas as pd\n",
        "nifty100=pd.read_csv('/content/ind_nifty50list.csv')\n",
        "data_vol = pd.read_csv('/content/'+filename,skiprows=1,header=None)"
      ],
      "execution_count": 99,
      "outputs": []
    },
    {
      "cell_type": "code",
      "metadata": {
        "id": "9Rm8tKrcMRAj",
        "colab": {
          "base_uri": "https://localhost:8080/",
          "height": 204
        },
        "outputId": "fd954e0d-2263-460f-d6a2-a7d89d7ae5f1"
      },
      "source": [
        "data_vol3=pd.DataFrame(data_vol[[1,5,6]])\n",
        "data_vol3.head()"
      ],
      "execution_count": 100,
      "outputs": [
        {
          "output_type": "execute_result",
          "data": {
            "text/html": [
              "<div>\n",
              "<style scoped>\n",
              "    .dataframe tbody tr th:only-of-type {\n",
              "        vertical-align: middle;\n",
              "    }\n",
              "\n",
              "    .dataframe tbody tr th {\n",
              "        vertical-align: top;\n",
              "    }\n",
              "\n",
              "    .dataframe thead th {\n",
              "        text-align: right;\n",
              "    }\n",
              "</style>\n",
              "<table border=\"1\" class=\"dataframe\">\n",
              "  <thead>\n",
              "    <tr style=\"text-align: right;\">\n",
              "      <th></th>\n",
              "      <th>1</th>\n",
              "      <th>5</th>\n",
              "      <th>6</th>\n",
              "    </tr>\n",
              "  </thead>\n",
              "  <tbody>\n",
              "    <tr>\n",
              "      <th>0</th>\n",
              "      <td>20MICRONS</td>\n",
              "      <td>0.0294</td>\n",
              "      <td>0.0303</td>\n",
              "    </tr>\n",
              "    <tr>\n",
              "      <th>1</th>\n",
              "      <td>21STCENMGM</td>\n",
              "      <td>0.0234</td>\n",
              "      <td>0.0233</td>\n",
              "    </tr>\n",
              "    <tr>\n",
              "      <th>2</th>\n",
              "      <td>3IINFOTECH</td>\n",
              "      <td>0.0395</td>\n",
              "      <td>0.0395</td>\n",
              "    </tr>\n",
              "    <tr>\n",
              "      <th>3</th>\n",
              "      <td>3MINDIA</td>\n",
              "      <td>0.0222</td>\n",
              "      <td>0.0222</td>\n",
              "    </tr>\n",
              "    <tr>\n",
              "      <th>4</th>\n",
              "      <td>3PLAND</td>\n",
              "      <td>0.0692</td>\n",
              "      <td>0.0695</td>\n",
              "    </tr>\n",
              "  </tbody>\n",
              "</table>\n",
              "</div>"
            ],
            "text/plain": [
              "            1       5       6\n",
              "0   20MICRONS  0.0294  0.0303\n",
              "1  21STCENMGM  0.0234  0.0233\n",
              "2  3IINFOTECH  0.0395  0.0395\n",
              "3     3MINDIA  0.0222  0.0222\n",
              "4      3PLAND  0.0692  0.0695"
            ]
          },
          "metadata": {
            "tags": []
          },
          "execution_count": 100
        }
      ]
    },
    {
      "cell_type": "code",
      "metadata": {
        "id": "LTIg39YhMaR5"
      },
      "source": [
        " \n",
        "data_vol3.rename(columns={1:'Symbol',5:'Daily %',6:'Yearly %'},inplace=True)"
      ],
      "execution_count": 101,
      "outputs": []
    },
    {
      "cell_type": "code",
      "metadata": {
        "id": "va7Bfmc4MfFc"
      },
      "source": [
        "nifty100=pd.DataFrame(nifty100[['Symbol']])"
      ],
      "execution_count": 102,
      "outputs": []
    },
    {
      "cell_type": "code",
      "metadata": {
        "id": "sFNC9tCCMidS"
      },
      "source": [
        "data_vol3 = pd.merge(data_vol3,nifty100,on='Symbol',how='inner')"
      ],
      "execution_count": 103,
      "outputs": []
    },
    {
      "cell_type": "code",
      "metadata": {
        "id": "YLGgfqYNMliq",
        "colab": {
          "base_uri": "https://localhost:8080/",
          "height": 204
        },
        "outputId": "95d6b984-b149-4597-9ec0-cb9ea1b91bdd"
      },
      "source": [
        "data_vol3.head()"
      ],
      "execution_count": 104,
      "outputs": [
        {
          "output_type": "execute_result",
          "data": {
            "text/html": [
              "<div>\n",
              "<style scoped>\n",
              "    .dataframe tbody tr th:only-of-type {\n",
              "        vertical-align: middle;\n",
              "    }\n",
              "\n",
              "    .dataframe tbody tr th {\n",
              "        vertical-align: top;\n",
              "    }\n",
              "\n",
              "    .dataframe thead th {\n",
              "        text-align: right;\n",
              "    }\n",
              "</style>\n",
              "<table border=\"1\" class=\"dataframe\">\n",
              "  <thead>\n",
              "    <tr style=\"text-align: right;\">\n",
              "      <th></th>\n",
              "      <th>Symbol</th>\n",
              "      <th>Daily %</th>\n",
              "      <th>Yearly %</th>\n",
              "    </tr>\n",
              "  </thead>\n",
              "  <tbody>\n",
              "    <tr>\n",
              "      <th>0</th>\n",
              "      <td>ADANIPORTS</td>\n",
              "      <td>0.0247</td>\n",
              "      <td>0.0248</td>\n",
              "    </tr>\n",
              "    <tr>\n",
              "      <th>1</th>\n",
              "      <td>ASIANPAINT</td>\n",
              "      <td>0.0206</td>\n",
              "      <td>0.0206</td>\n",
              "    </tr>\n",
              "    <tr>\n",
              "      <th>2</th>\n",
              "      <td>AXISBANK</td>\n",
              "      <td>0.0354</td>\n",
              "      <td>0.0353</td>\n",
              "    </tr>\n",
              "    <tr>\n",
              "      <th>3</th>\n",
              "      <td>BAJAJ-AUTO</td>\n",
              "      <td>0.0214</td>\n",
              "      <td>0.0214</td>\n",
              "    </tr>\n",
              "    <tr>\n",
              "      <th>4</th>\n",
              "      <td>BAJAJFINSV</td>\n",
              "      <td>0.0323</td>\n",
              "      <td>0.0322</td>\n",
              "    </tr>\n",
              "  </tbody>\n",
              "</table>\n",
              "</div>"
            ],
            "text/plain": [
              "       Symbol Daily % Yearly %\n",
              "0  ADANIPORTS  0.0247   0.0248\n",
              "1  ASIANPAINT  0.0206   0.0206\n",
              "2    AXISBANK  0.0354   0.0353\n",
              "3  BAJAJ-AUTO  0.0214   0.0214\n",
              "4  BAJAJFINSV  0.0323   0.0322"
            ]
          },
          "metadata": {
            "tags": []
          },
          "execution_count": 104
        }
      ]
    },
    {
      "cell_type": "code",
      "metadata": {
        "id": "ZFcofWI9MtZQ"
      },
      "source": [
        "data_vol3.sort_values(by=['Daily %'],ascending=False,inplace=True)"
      ],
      "execution_count": 105,
      "outputs": []
    },
    {
      "cell_type": "code",
      "metadata": {
        "id": "IVvFjzIRMwwX"
      },
      "source": [
        "data_vol3.set_index('Symbol',inplace=True)"
      ],
      "execution_count": 106,
      "outputs": []
    },
    {
      "cell_type": "code",
      "metadata": {
        "id": "3doDnqaLMy_x"
      },
      "source": [
        "#data_vol3['Daily_volilty']=data_vol3['Daily %']"
      ],
      "execution_count": 107,
      "outputs": []
    },
    {
      "cell_type": "code",
      "metadata": {
        "id": "h4sYKj0nM2Tv"
      },
      "source": [
        "#data_vol3['Yearly_volity']=data_vol3['Yearly %']"
      ],
      "execution_count": 108,
      "outputs": []
    },
    {
      "cell_type": "code",
      "metadata": {
        "id": "ZLl9dV8yM4JE",
        "colab": {
          "base_uri": "https://localhost:8080/",
          "height": 855
        },
        "outputId": "359a7b0c-b873-4e3c-851c-7e3792b3c371"
      },
      "source": [
        "data_vol3.head(25)"
      ],
      "execution_count": 109,
      "outputs": [
        {
          "output_type": "execute_result",
          "data": {
            "text/html": [
              "<div>\n",
              "<style scoped>\n",
              "    .dataframe tbody tr th:only-of-type {\n",
              "        vertical-align: middle;\n",
              "    }\n",
              "\n",
              "    .dataframe tbody tr th {\n",
              "        vertical-align: top;\n",
              "    }\n",
              "\n",
              "    .dataframe thead th {\n",
              "        text-align: right;\n",
              "    }\n",
              "</style>\n",
              "<table border=\"1\" class=\"dataframe\">\n",
              "  <thead>\n",
              "    <tr style=\"text-align: right;\">\n",
              "      <th></th>\n",
              "      <th>Daily %</th>\n",
              "      <th>Yearly %</th>\n",
              "    </tr>\n",
              "    <tr>\n",
              "      <th>Symbol</th>\n",
              "      <th></th>\n",
              "      <th></th>\n",
              "    </tr>\n",
              "  </thead>\n",
              "  <tbody>\n",
              "    <tr>\n",
              "      <th>INDUSINDBK</th>\n",
              "      <td>0.0462</td>\n",
              "      <td>0.0461</td>\n",
              "    </tr>\n",
              "    <tr>\n",
              "      <th>TATAMOTORS</th>\n",
              "      <td>0.0358</td>\n",
              "      <td>0.0357</td>\n",
              "    </tr>\n",
              "    <tr>\n",
              "      <th>AXISBANK</th>\n",
              "      <td>0.0354</td>\n",
              "      <td>0.0353</td>\n",
              "    </tr>\n",
              "    <tr>\n",
              "      <th>BAJFINANCE</th>\n",
              "      <td>0.0350</td>\n",
              "      <td>0.0349</td>\n",
              "    </tr>\n",
              "    <tr>\n",
              "      <th>BAJAJFINSV</th>\n",
              "      <td>0.0323</td>\n",
              "      <td>0.0322</td>\n",
              "    </tr>\n",
              "    <tr>\n",
              "      <th>HINDALCO</th>\n",
              "      <td>0.0322</td>\n",
              "      <td>0.0322</td>\n",
              "    </tr>\n",
              "    <tr>\n",
              "      <th>ICICIBANK</th>\n",
              "      <td>0.0305</td>\n",
              "      <td>0.0305</td>\n",
              "    </tr>\n",
              "    <tr>\n",
              "      <th>UPL</th>\n",
              "      <td>0.0298</td>\n",
              "      <td>0.0297</td>\n",
              "    </tr>\n",
              "    <tr>\n",
              "      <th>BPCL</th>\n",
              "      <td>0.0297</td>\n",
              "      <td>0.0296</td>\n",
              "    </tr>\n",
              "    <tr>\n",
              "      <th>JSWSTEEL</th>\n",
              "      <td>0.0292</td>\n",
              "      <td>0.0291</td>\n",
              "    </tr>\n",
              "    <tr>\n",
              "      <th>ONGC</th>\n",
              "      <td>0.0285</td>\n",
              "      <td>0.0284</td>\n",
              "    </tr>\n",
              "    <tr>\n",
              "      <th>TATASTEEL</th>\n",
              "      <td>0.0285</td>\n",
              "      <td>0.0285</td>\n",
              "    </tr>\n",
              "    <tr>\n",
              "      <th>SBIN</th>\n",
              "      <td>0.0277</td>\n",
              "      <td>0.0277</td>\n",
              "    </tr>\n",
              "    <tr>\n",
              "      <th>KOTAKBANK</th>\n",
              "      <td>0.0270</td>\n",
              "      <td>0.0269</td>\n",
              "    </tr>\n",
              "    <tr>\n",
              "      <th>HDFCLIFE</th>\n",
              "      <td>0.0269</td>\n",
              "      <td>0.0269</td>\n",
              "    </tr>\n",
              "    <tr>\n",
              "      <th>EICHERMOT</th>\n",
              "      <td>0.0264</td>\n",
              "      <td>0.0263</td>\n",
              "    </tr>\n",
              "    <tr>\n",
              "      <th>M&amp;M</th>\n",
              "      <td>0.0262</td>\n",
              "      <td>0.0262</td>\n",
              "    </tr>\n",
              "    <tr>\n",
              "      <th>GRASIM</th>\n",
              "      <td>0.0260</td>\n",
              "      <td>0.0260</td>\n",
              "    </tr>\n",
              "    <tr>\n",
              "      <th>HDFC</th>\n",
              "      <td>0.0258</td>\n",
              "      <td>0.0257</td>\n",
              "    </tr>\n",
              "    <tr>\n",
              "      <th>GAIL</th>\n",
              "      <td>0.0258</td>\n",
              "      <td>0.0258</td>\n",
              "    </tr>\n",
              "    <tr>\n",
              "      <th>RELIANCE</th>\n",
              "      <td>0.0255</td>\n",
              "      <td>0.0255</td>\n",
              "    </tr>\n",
              "    <tr>\n",
              "      <th>MARUTI</th>\n",
              "      <td>0.0255</td>\n",
              "      <td>0.0254</td>\n",
              "    </tr>\n",
              "    <tr>\n",
              "      <th>BHARTIARTL</th>\n",
              "      <td>0.0254</td>\n",
              "      <td>0.0254</td>\n",
              "    </tr>\n",
              "    <tr>\n",
              "      <th>HEROMOTOCO</th>\n",
              "      <td>0.0251</td>\n",
              "      <td>0.0250</td>\n",
              "    </tr>\n",
              "    <tr>\n",
              "      <th>ADANIPORTS</th>\n",
              "      <td>0.0247</td>\n",
              "      <td>0.0248</td>\n",
              "    </tr>\n",
              "  </tbody>\n",
              "</table>\n",
              "</div>"
            ],
            "text/plain": [
              "           Daily % Yearly %\n",
              "Symbol                     \n",
              "INDUSINDBK  0.0462   0.0461\n",
              "TATAMOTORS  0.0358   0.0357\n",
              "AXISBANK    0.0354   0.0353\n",
              "BAJFINANCE  0.0350   0.0349\n",
              "BAJAJFINSV  0.0323   0.0322\n",
              "HINDALCO    0.0322   0.0322\n",
              "ICICIBANK   0.0305   0.0305\n",
              "UPL         0.0298   0.0297\n",
              "BPCL        0.0297   0.0296\n",
              "JSWSTEEL    0.0292   0.0291\n",
              "ONGC        0.0285   0.0284\n",
              "TATASTEEL   0.0285   0.0285\n",
              "SBIN        0.0277   0.0277\n",
              "KOTAKBANK   0.0270   0.0269\n",
              "HDFCLIFE    0.0269   0.0269\n",
              "EICHERMOT   0.0264   0.0263\n",
              "M&M         0.0262   0.0262\n",
              "GRASIM      0.0260   0.0260\n",
              "HDFC        0.0258   0.0257\n",
              "GAIL        0.0258   0.0258\n",
              "RELIANCE    0.0255   0.0255\n",
              "MARUTI      0.0255   0.0254\n",
              "BHARTIARTL  0.0254   0.0254\n",
              "HEROMOTOCO  0.0251   0.0250\n",
              "ADANIPORTS  0.0247   0.0248"
            ]
          },
          "metadata": {
            "tags": []
          },
          "execution_count": 109
        }
      ]
    },
    {
      "cell_type": "code",
      "metadata": {
        "id": "thtsMBO5M9io"
      },
      "source": [
        "data_vol3.to_csv('file.csv')"
      ],
      "execution_count": 110,
      "outputs": []
    },
    {
      "cell_type": "code",
      "metadata": {
        "id": "622HO9nc90Bm"
      },
      "source": [
        ""
      ],
      "execution_count": 110,
      "outputs": []
    }
  ]
}